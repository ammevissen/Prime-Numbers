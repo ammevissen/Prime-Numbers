{
 "cells": [
  {
   "cell_type": "code",
   "execution_count": 3,
   "metadata": {
    "collapsed": false
   },
   "outputs": [],
   "source": [
    "def findPrime(x):\n",
    "    prime=[2, 3] #\n",
    "    notPrime=[]\n",
    "    numbers=[2,3]\n",
    "    exclude=4 #done to exclude 0 and 1 as they are unique numbers, exclude 2 and 3 as to get the list started.\n",
    "    for i in range(x-exclude+1):\n",
    "        num=i+exclude\n",
    "        status=True\n",
    "        \n",
    "        for j in prime:\n",
    "            if num%j==0:\n",
    "                status=False\n",
    "        numbers.append(num)\n",
    "        if status:\n",
    "            prime.append(num)\n",
    "        else:\n",
    "            notPrime.append(num)\n",
    "    return(prime, notPrime, numbers)\n",
    "\n",
    "number=10000\n",
    "prime, notPrime,numbers=findPrime(number)\n",
    "#print(prime, notPrime)\n",
    "\n",
    "        "
   ]
  },
  {
   "cell_type": "code",
   "execution_count": 4,
   "metadata": {
    "collapsed": false
   },
   "outputs": [
    {
     "name": "stdout",
     "output_type": "stream",
     "text": [
      "[[ 0.]\n",
      " [ 0.]\n",
      " [ 0.]\n",
      " ..., \n",
      " [ 0.]\n",
      " [ 0.]\n",
      " [ 0.]]\n"
     ]
    }
   ],
   "source": [
    "import numpy as np\n",
    "\n",
    "label=np.zeros((number-1,1))\n",
    "print(label)"
   ]
  },
  {
   "cell_type": "code",
   "execution_count": 5,
   "metadata": {
    "collapsed": false
   },
   "outputs": [
    {
     "name": "stdout",
     "output_type": "stream",
     "text": [
      "[[ 1.]\n",
      " [ 1.]\n",
      " [ 0.]\n",
      " ..., \n",
      " [ 0.]\n",
      " [ 0.]\n",
      " [ 0.]]\n",
      "[[ 0.  1.]\n",
      " [ 0.  1.]\n",
      " [ 1.  0.]\n",
      " ..., \n",
      " [ 1.  0.]\n",
      " [ 1.  0.]\n",
      " [ 1.  0.]]\n"
     ]
    }
   ],
   "source": [
    "for i in prime:\n",
    "    label[i-2]=1\n",
    "#print(label)\n",
    "\n",
    "from keras.utils import np_utils\n",
    "label_final = np_utils.to_categorical(np.array(label), 2)\n",
    "print(label)\n",
    "print(label_final)"
   ]
  },
  {
   "cell_type": "code",
   "execution_count": 14,
   "metadata": {
    "collapsed": false
   },
   "outputs": [
    {
     "name": "stdout",
     "output_type": "stream",
     "text": [
      "[[[ 0.  0.  0.  0.  2.]]\n",
      "\n",
      " [[ 0.  0.  0.  0.  3.]]\n",
      "\n",
      " [[ 0.  0.  0.  0.  4.]]\n",
      "\n",
      " ..., \n",
      " [[ 0.  9.  9.  9.  8.]]\n",
      "\n",
      " [[ 0.  9.  9.  9.  9.]]\n",
      "\n",
      " [[ 1.  0.  0.  0.  0.]]]\n"
     ]
    }
   ],
   "source": [
    "data=np.zeros((number-1,1,len(str(number))))\n",
    "for i in range(number-1):\n",
    "    num=i+2\n",
    "    for k in range(len(str(num))):\n",
    "        data[i][0][len(str(number))-k-1]=int(str(num)[len(str(num))-k-1])\n",
    "#print(data)\n",
    "#data_final = np_utils.to_categorical(np.array(data), number+1)\n",
    "print(data)"
   ]
  },
  {
   "cell_type": "code",
   "execution_count": null,
   "metadata": {
    "collapsed": false
   },
   "outputs": [],
   "source": []
  },
  {
   "cell_type": "code",
   "execution_count": 15,
   "metadata": {
    "collapsed": false
   },
   "outputs": [],
   "source": [
    "from sklearn.model_selection import train_test_split\n",
    "X_train, X_test, y_train, y_test = train_test_split(data, label_final, test_size=0.2, random_state=42)"
   ]
  },
  {
   "cell_type": "code",
   "execution_count": 8,
   "metadata": {
    "collapsed": true
   },
   "outputs": [],
   "source": [
    "from sklearn.ensemble import AdaBoostClassifier\n",
    "\n",
    "\n",
    "\n",
    "\n",
    "\n",
    "\n"
   ]
  },
  {
   "cell_type": "code",
   "execution_count": 51,
   "metadata": {
    "collapsed": false
   },
   "outputs": [
    {
     "name": "stdout",
     "output_type": "stream",
     "text": [
      "(7999, 1, 5)\n",
      "_________________________________________________________________\n",
      "Layer (type)                 Output Shape              Param #   \n",
      "=================================================================\n",
      "conv1d_19 (Conv1D)           (None, 1, 1024)           11264     \n",
      "_________________________________________________________________\n",
      "conv1d_20 (Conv1D)           (None, 1, 2048)           4196352   \n",
      "_________________________________________________________________\n",
      "conv1d_21 (Conv1D)           (None, 1, 4096)           16781312  \n",
      "_________________________________________________________________\n",
      "dropout_4 (Dropout)          (None, 1, 4096)           0         \n",
      "_________________________________________________________________\n",
      "flatten_4 (Flatten)          (None, 4096)              0         \n",
      "_________________________________________________________________\n",
      "dense_4 (Dense)              (None, 2)                 8194      \n",
      "=================================================================\n",
      "Total params: 20,997,122.0\n",
      "Trainable params: 20,997,122.0\n",
      "Non-trainable params: 0.0\n",
      "_________________________________________________________________\n"
     ]
    }
   ],
   "source": [
    "#neural network(s):\n",
    "from keras.layers import Conv1D, MaxPooling1D, GlobalAveragePooling1D, AveragePooling1D\n",
    "from keras.layers import Dropout, Flatten, Dense\n",
    "from keras.models import Sequential\n",
    "\n",
    "print(X_train.shape)\n",
    "\n",
    "Prime_model = Sequential()\n",
    "Prime_model.add(Conv1D(filters=1024, kernel_size=2, padding='same', activation='relu', input_shape=(X_train.shape[1],X_train.shape[2])))\n",
    "#Prime_model.add(MaxPooling1D(pool_size=2))\n",
    "Prime_model.add(Conv1D(filters=2048, kernel_size=2, padding='same', activation='relu'))\n",
    "#Prime_model.add(MaxPooling1D(pool_size=2))\n",
    "Prime_model.add(Conv1D(filters=4096, kernel_size=2, padding='same', activation='relu'))\n",
    "#Prime_model.add(MaxPooling1D(pool_size=4))\n",
    "#Prime_model.add(AveragePooling1D(pool_size=(2, 2), strides=None, padding='valid'))\n",
    "Prime_model.add(Dropout(.3))\n",
    "Prime_model.add(Flatten())\n",
    "Prime_model.add(Dense(2, activation='softmax'))\n",
    "\n",
    "Prime_model.summary()"
   ]
  },
  {
   "cell_type": "code",
   "execution_count": 52,
   "metadata": {
    "collapsed": false
   },
   "outputs": [],
   "source": [
    "#compile network:\n",
    "Prime_model.compile(optimizer='rmsprop', loss='binary_crossentropy', metrics=['accuracy'])"
   ]
  },
  {
   "cell_type": "code",
   "execution_count": null,
   "metadata": {
    "collapsed": false
   },
   "outputs": [
    {
     "name": "stdout",
     "output_type": "stream",
     "text": [
      "Train on 7999 samples, validate on 2000 samples\n",
      "Epoch 1/15\n",
      " 147/7999 [..............................] - ETA: 1846s - loss: 2.7601 - acc: 0.8095"
     ]
    }
   ],
   "source": [
    "#running network:\n",
    "from keras.callbacks import ModelCheckpoint  \n",
    "\n",
    "### TODO: specify the number of epochs that you would like to use to train the model.\n",
    "\n",
    "epochs = 15\n",
    "\n",
    "### Do NOT modify the code below this line.\n",
    "\n",
    "checkpointer = ModelCheckpoint(filepath='D:\\Machine Learning\\LearningPrime/weights.best.from_scratch.hdf5', \n",
    "                               verbose=1, save_best_only=True)\n",
    "\n",
    "Prime_model.fit(X_train, y_train, \n",
    "          validation_data=(X_test, y_test),\n",
    "          epochs=epochs, batch_size=7, callbacks=[checkpointer], verbose=1)"
   ]
  },
  {
   "cell_type": "code",
   "execution_count": 26,
   "metadata": {
    "collapsed": false
   },
   "outputs": [],
   "source": [
    "#prediction:\n",
    "#load model\n",
    "Prime_model.load_weights('D:\\Machine Learning\\LearningPrime/weights.best.from_scratch.hdf5')"
   ]
  },
  {
   "cell_type": "code",
   "execution_count": 41,
   "metadata": {
    "collapsed": false
   },
   "outputs": [
    {
     "name": "stdout",
     "output_type": "stream",
     "text": [
      "[[ 0.  0.  0.  1.  0.]]\n"
     ]
    }
   ],
   "source": [
    "def num(x, number):\n",
    "    zeros=np.zeros(len(str(number)))\n",
    "    for k in range((len(str(x)))):\n",
    "        zeros[len(str(number))-k-1]=int(str(x)[len(str(x))-k-1])\n",
    "    return(np.array([zeros]))\n",
    "\n",
    "\n",
    "print(num(10, number))"
   ]
  },
  {
   "cell_type": "code",
   "execution_count": 42,
   "metadata": {
    "collapsed": false
   },
   "outputs": [],
   "source": [
    "def predPrime(x):\n",
    "    #Prime_model.predict(np.array([num(x, number)]))\n",
    "    #print(Prime_model.predict(np.array([num(x, number)]))[0])\n",
    "    return(Prime_model.predict(np.array([num(x, number)]))[0][0],Prime_model.predict(np.array([num(x, number)]))[0][1])"
   ]
  },
  {
   "cell_type": "code",
   "execution_count": 43,
   "metadata": {
    "collapsed": false
   },
   "outputs": [
    {
     "name": "stdout",
     "output_type": "stream",
     "text": [
      "i= 2   probNotPrime= 0.791068   probPrime= 0.208932\n",
      "i= 3   probNotPrime= 0.783379   probPrime= 0.216621\n",
      "i= 5   probNotPrime= 0.790333   probPrime= 0.209667\n",
      "i= 7   probNotPrime= 0.798508   probPrime= 0.201492\n",
      "i= 11   probNotPrime= 0.78985   probPrime= 0.21015\n",
      "i= 13   probNotPrime= 0.786353   probPrime= 0.213647\n",
      "i= 17   probNotPrime= 0.801822   probPrime= 0.198178\n",
      "i= 19   probNotPrime= 0.809598   probPrime= 0.190402\n",
      "i= 23   probNotPrime= 0.790224   probPrime= 0.209776\n",
      "i= 29   probNotPrime= 0.813001   probPrime= 0.186999\n",
      "i= 31   probNotPrime= 0.786742   probPrime= 0.213258\n",
      "i= 37   probNotPrime= 0.809656   probPrime= 0.190344\n",
      "i= 41   probNotPrime= 0.791054   probPrime= 0.208946\n",
      "i= 43   probNotPrime= 0.799487   probPrime= 0.200513\n",
      "i= 47   probNotPrime= 0.815608   probPrime= 0.184392\n",
      "i= 53   probNotPrime= 0.805722   probPrime= 0.194278\n",
      "i= 59   probNotPrime= 0.828881   probPrime= 0.171119\n",
      "i= 61   probNotPrime= 0.803721   probPrime= 0.196279\n",
      "i= 67   probNotPrime= 0.827077   probPrime= 0.172923\n",
      "i= 71   probNotPrime= 0.809838   probPrime= 0.190162\n",
      "i= 9811   probNotPrime= 0.879736   probPrime= 0.120264\n",
      "i= 9817   probNotPrime= 0.894628   probPrime= 0.105372\n",
      "i= 9829   probNotPrime= 0.901045   probPrime= 0.0989548\n",
      "i= 9833   probNotPrime= 0.889032   probPrime= 0.110968\n",
      "i= 9839   probNotPrime= 0.902923   probPrime= 0.097077\n",
      "i= 9851   probNotPrime= 0.887835   probPrime= 0.112165\n",
      "i= 9857   probNotPrime= 0.904171   probPrime= 0.0958292\n",
      "i= 9859   probNotPrime= 0.908893   probPrime= 0.0911066\n",
      "i= 9871   probNotPrime= 0.894133   probPrime= 0.105867\n",
      "i= 9883   probNotPrime= 0.903735   probPrime= 0.0962655\n",
      "i= 9887   probNotPrime= 0.913002   probPrime= 0.086998\n",
      "i= 9901   probNotPrime= 0.881154   probPrime= 0.118846\n",
      "i= 9907   probNotPrime= 0.895745   probPrime= 0.104255\n",
      "i= 9923   probNotPrime= 0.890201   probPrime= 0.109799\n",
      "i= 9929   probNotPrime= 0.903896   probPrime= 0.0961038\n",
      "i= 9931   probNotPrime= 0.886502   probPrime= 0.113498\n",
      "i= 9941   probNotPrime= 0.888319   probPrime= 0.111681\n",
      "i= 9949   probNotPrime= 0.907393   probPrime= 0.092607\n",
      "i= 9967   probNotPrime= 0.908469   probPrime= 0.0915309\n",
      "i= 9973   probNotPrime= 0.901945   probPrime= 0.0980554\n"
     ]
    }
   ],
   "source": [
    "for i in range(20):\n",
    "    probNotPrime, probPrime= predPrime(prime[i])\n",
    "    print('i=', prime[i], '  probNotPrime=', probNotPrime, '  probPrime=', probPrime)\n",
    "\n",
    "for i in range(20):\n",
    "    probNotPrime, probPrime= predPrime(prime[len(prime)-20+i])\n",
    "    print('i=', prime[len(prime)-20+i], '  probNotPrime=', probNotPrime, '  probPrime=', probPrime)"
   ]
  },
  {
   "cell_type": "code",
   "execution_count": 44,
   "metadata": {
    "collapsed": false
   },
   "outputs": [
    {
     "name": "stdout",
     "output_type": "stream",
     "text": [
      "i= 4   probNotPrime= 0.786336   probPrime= 0.213664\n",
      "i= 6   probNotPrime= 0.794451   probPrime= 0.205549\n",
      "i= 8   probNotPrime= 0.802505   probPrime= 0.197495\n",
      "i= 9   probNotPrime= 0.806416   probPrime= 0.193584\n",
      "i= 10   probNotPrime= 0.999996   probPrime= 3.68429e-06\n",
      "i= 12   probNotPrime= 0.783288   probPrime= 0.216712\n",
      "i= 14   probNotPrime= 0.790009   probPrime= 0.209991\n",
      "i= 15   probNotPrime= 0.793785   probPrime= 0.206215\n",
      "i= 16   probNotPrime= 0.797814   probPrime= 0.202186\n",
      "i= 18   probNotPrime= 0.805748   probPrime= 0.194252\n",
      "i= 20   probNotPrime= 0.999998   probPrime= 2.31241e-06\n",
      "i= 21   probNotPrime= 0.783329   probPrime= 0.216671\n",
      "i= 22   probNotPrime= 0.786548   probPrime= 0.213452\n",
      "i= 24   probNotPrime= 0.793997   probPrime= 0.206003\n",
      "i= 25   probNotPrime= 0.79772   probPrime= 0.20228\n",
      "i= 26   probNotPrime= 0.801392   probPrime= 0.198608\n",
      "i= 27   probNotPrime= 0.805078   probPrime= 0.194922\n",
      "i= 28   probNotPrime= 0.809046   probPrime= 0.190954\n",
      "i= 30   probNotPrime= 0.999999   probPrime= 1.45137e-06\n",
      "i= 32   probNotPrime= 0.790438   probPrime= 0.209562\n",
      "i= 9981   probNotPrime= 0.898342   probPrime= 0.101658\n",
      "i= 9982   probNotPrime= 0.902618   probPrime= 0.0973823\n",
      "i= 9983   probNotPrime= 0.905045   probPrime= 0.0949546\n",
      "i= 9984   probNotPrime= 0.907414   probPrime= 0.0925861\n",
      "i= 9985   probNotPrime= 0.909726   probPrime= 0.0902738\n",
      "i= 9986   probNotPrime= 0.911986   probPrime= 0.0880136\n",
      "i= 9987   probNotPrime= 0.914195   probPrime= 0.0858047\n",
      "i= 9988   probNotPrime= 0.916354   probPrime= 0.0836462\n",
      "i= 9989   probNotPrime= 0.918463   probPrime= 0.0815371\n",
      "i= 9990   probNotPrime= 1.0   probPrime= 1.8989e-17\n",
      "i= 9991   probNotPrime= 0.901359   probPrime= 0.0986411\n",
      "i= 9992   probNotPrime= 0.905699   probPrime= 0.0943005\n",
      "i= 9993   probNotPrime= 0.908051   probPrime= 0.091949\n",
      "i= 9994   probNotPrime= 0.910349   probPrime= 0.089651\n",
      "i= 9995   probNotPrime= 0.912595   probPrime= 0.087405\n",
      "i= 9996   probNotPrime= 0.91479   probPrime= 0.08521\n",
      "i= 9997   probNotPrime= 0.916935   probPrime= 0.083065\n",
      "i= 9998   probNotPrime= 0.919031   probPrime= 0.0809693\n",
      "i= 9999   probNotPrime= 0.921078   probPrime= 0.0789218\n",
      "i= 10000   probNotPrime= 0.999998   probPrime= 2.40115e-06\n"
     ]
    }
   ],
   "source": [
    "#for i in notPrime:\n",
    "#    probNotPrime, probPrime= predPrime(i)\n",
    "#    print('i=', i, '  probNotPrime=', probNotPrime, '  probPrime=', probPrime)\n",
    "    \n",
    "    \n",
    "for i in range(20):\n",
    "    probNotPrime, probPrime= predPrime(notPrime[i])\n",
    "    print('i=', notPrime[i], '  probNotPrime=', probNotPrime, '  probPrime=', probPrime)\n",
    "\n",
    "for i in range(20):\n",
    "    probNotPrime, probPrime= predPrime(notPrime[len(notPrime)-20+i])\n",
    "    print('i=', notPrime[len(notPrime)-20+i], '  probNotPrime=', probNotPrime, '  probPrime=', probPrime)"
   ]
  },
  {
   "cell_type": "code",
   "execution_count": 45,
   "metadata": {
    "collapsed": false
   },
   "outputs": [],
   "source": [
    "import math\n"
   ]
  },
  {
   "cell_type": "code",
   "execution_count": 46,
   "metadata": {
    "collapsed": false
   },
   "outputs": [],
   "source": [
    "#data1D=[]\n",
    "notPrimeArray=[]\n",
    "\n",
    "for i in numbers:\n",
    "    #data1D.append(int(i[0]))\n",
    "    #print (i)\n",
    "    #print (int(i[0]))\n",
    "    #print (2)\n",
    "    #probNotPrime, probPrime=predPrime(int(i[0]))\n",
    "    probNotPrime, probPrime=predPrime(i)\n",
    "    notPrimeArray.append(probNotPrime)\n",
    "    \n",
    "\n",
    "#print(numbers)\n",
    "#print(notPrimeArray)\n",
    "    "
   ]
  },
  {
   "cell_type": "code",
   "execution_count": 47,
   "metadata": {
    "collapsed": false
   },
   "outputs": [
    {
     "name": "stdout",
     "output_type": "stream",
     "text": [
      "7999 7999\n"
     ]
    },
    {
     "data": {
      "text/plain": [
       "AdaBoostClassifier(algorithm='SAMME.R', base_estimator=None,\n",
       "          learning_rate=1.0, n_estimators=50, random_state=None)"
      ]
     },
     "execution_count": 47,
     "metadata": {},
     "output_type": "execute_result"
    }
   ],
   "source": [
    "from sklearn.ensemble import AdaBoostClassifier\n",
    "from sklearn.tree import DecisionTreeClassifier\n",
    "\n",
    "labelArray=[]\n",
    "for i in label:\n",
    "    #print (i[0])\n",
    "    labelArray.append(i[0])\n",
    "\n",
    "notPrimeArray2D=[] \n",
    "for i in notPrimeArray:\n",
    "    notPrimeArray2D.append([i])\n",
    "    \n",
    "#print (labelArray[0])    \n",
    "\n",
    "X_train_boost, X_test_boost, y_train_boost, y_test_boost = train_test_split(notPrimeArray2D, labelArray, test_size=0.2, random_state=42)\n",
    "\n",
    "clf=AdaBoostClassifier(n_estimators=50)\n",
    "\n",
    "print (len(X_train_boost), len(y_train_boost))\n",
    "\n",
    "#print (X_train_boost)\n",
    "#print (y_train_boost)\n",
    "\n",
    "clf.fit(X_train_boost, y_train_boost)\n",
    "\n",
    "\n"
   ]
  },
  {
   "cell_type": "code",
   "execution_count": 48,
   "metadata": {
    "collapsed": false
   },
   "outputs": [],
   "source": [
    "def boostpredict(x):\n",
    "    return(clf.predict(x))"
   ]
  },
  {
   "cell_type": "code",
   "execution_count": 49,
   "metadata": {
    "collapsed": false
   },
   "outputs": [
    {
     "name": "stdout",
     "output_type": "stream",
     "text": [
      "0.009764035801464606\n"
     ]
    }
   ],
   "source": [
    "accuracyPrime=0\n",
    "for i in prime:\n",
    "    probNotPrime, probPrime= predPrime(i)\n",
    "    #print('i=', i, '  probNotPrime=', probNotPrime, '  probPrime=', probPrime)\n",
    "    result=boostpredict(probNotPrime)\n",
    "    #print('i=', i, '  probNotPrime=', result)\n",
    "    if result==[1.]:\n",
    "        accuracyPrime+=1\n",
    "\n",
    "print(accuracyPrime/len(prime))\n"
   ]
  },
  {
   "cell_type": "code",
   "execution_count": 50,
   "metadata": {
    "collapsed": false
   },
   "outputs": [
    {
     "name": "stdout",
     "output_type": "stream",
     "text": [
      "0.9990877993158495\n"
     ]
    }
   ],
   "source": [
    "#for i in notPrime:\n",
    "#    probNotPrime, probPrime= predPrime(i)\n",
    "#    #print('i=', i, '  probNotPrime=', probNotPrime, '  probPrime=', probPrime)\n",
    "#    print('i=', i, '  probNotPrime=', boostpredict(probNotPrime))\n",
    "    \n",
    "    \n",
    "accuracyNotPrime=0\n",
    "for i in notPrime:\n",
    "    probNotPrime, probPrime= predPrime(i)\n",
    "    #print('i=', i, '  probNotPrime=', probNotPrime, '  probPrime=', probPrime)\n",
    "    result=boostpredict(probNotPrime)\n",
    "    #print('i=', i, '  probNotPrime=', result)\n",
    "    if result==[0.]:\n",
    "        accuracyNotPrime+=1\n",
    "\n",
    "print(accuracyNotPrime/len(notPrime))"
   ]
  },
  {
   "cell_type": "code",
   "execution_count": 330,
   "metadata": {
    "collapsed": false
   },
   "outputs": [
    {
     "name": "stdout",
     "output_type": "stream",
     "text": [
      "[[1, 2, [3, 4]], [5, 6], 7]\n",
      "[1, 2, [3, 4]]\n",
      "[3, 4]\n",
      "[5, 6]\n",
      "[1, 2, 3, 4, 5, 6, 7]\n"
     ]
    }
   ],
   "source": [
    "def flatten_list(a, result=None):\n",
    "    \"\"\"Flattens a nested list.\n",
    "\n",
    "        >>> flatten_list([ [1, 2, [3, 4] ], [5, 6], 7])\n",
    "        [1, 2, 3, 4, 5, 6, 7]\n",
    "    \"\"\"\n",
    "    print(a)\n",
    "    if result is None:\n",
    "        result = []\n",
    "\n",
    "    for x in a:\n",
    "        if isinstance(x, list):\n",
    "            flatten_list(x, result)\n",
    "        else:\n",
    "            result.append(x)\n",
    "\n",
    "    return result\n",
    "\n",
    "a=[ [1, 2, [3, 4] ], [5, 6], 7]\n",
    "print(flatten_list(a, result=None))"
   ]
  },
  {
   "cell_type": "code",
   "execution_count": 360,
   "metadata": {
    "collapsed": false
   },
   "outputs": [
    {
     "name": "stdout",
     "output_type": "stream",
     "text": [
      "[[ 0.  1.  0. ...,  0.  0.  0.]]\n"
     ]
    }
   ],
   "source": [
    "print (np.array([num(1, number)]))"
   ]
  },
  {
   "cell_type": "code",
   "execution_count": 408,
   "metadata": {
    "collapsed": false
   },
   "outputs": [
    {
     "name": "stdout",
     "output_type": "stream",
     "text": [
      "[[  2.00000000e+00]\n",
      " [  3.00000000e+00]\n",
      " [  4.00000000e+00]\n",
      " ..., \n",
      " [  4.99800000e+03]\n",
      " [  4.99900000e+03]\n",
      " [  5.00000000e+03]]\n",
      "(0.84858251, 0.15141749)\n",
      "8.4858250618\n",
      "a= 8\n",
      "b= 4\n",
      "c= 8\n",
      "d= 5\n",
      "None\n"
     ]
    }
   ],
   "source": [
    "print(data)\n",
    "print (predPrime(2))\n",
    "probNotPrime, probPrime= predPrime(2)\n",
    "\n",
    "print (probNotPrime*10)\n",
    "a= (math.floor(probNotPrime*10))\n",
    "b=math.floor(probNotPrime*100-a*10)\n",
    "c=math.floor(probNotPrime*1000-(a*100+b*10))\n",
    "d=math.floor(probNotPrime*10000-(a*1000+b*100+c*10))\n",
    "e=math.floor(probNotPrime*100000-d*10)\n",
    "f=math.floor(probNotPrime*1000000-e*10)\n",
    "g=math.floor(probNotPrime*10000000-f*10)\n",
    "h=math.floor(probNotPrime*100000000-g*10)\n",
    "i=math.floor(probNotPrime*1000000000-h*10)\n",
    "j=math.floor(probNotPrime*10000000000-i*10)\n",
    "\n",
    "print ('a=', a)\n",
    "print ('b=', b)\n",
    "print ('c=', c)\n",
    "print ('d=', d)\n",
    "#print ('e=', e)\n",
    "\n",
    "#print ('f=', f)\n",
    "#print ('g=', g)\n",
    "#print ('h=', h)\n",
    "#print ('i=', i)\n",
    "#print ('j=', j)\n",
    "\n",
    "def digits(x,y):\n",
    "    result=([math.floor(x*10)])\n",
    "    if y>0:\n",
    "        return(result.append(digits(x*10-math.floor(x*10),y-1)))\n",
    "    else:\n",
    "        return(result)\n",
    "    \n",
    "print (digits(probNotPrime, 1))\n",
    "#    \n",
    "#def digitsVect(x):\n",
    "\n",
    "#for i in data:\n",
    "    "
   ]
  },
  {
   "cell_type": "code",
   "execution_count": null,
   "metadata": {
    "collapsed": true
   },
   "outputs": [],
   "source": []
  }
 ],
 "metadata": {
  "anaconda-cloud": {},
  "kernelspec": {
   "display_name": "Python [conda env:icebergChallenge]",
   "language": "python",
   "name": "conda-env-icebergChallenge-py"
  },
  "language_info": {
   "codemirror_mode": {
    "name": "ipython",
    "version": 3
   },
   "file_extension": ".py",
   "mimetype": "text/x-python",
   "name": "python",
   "nbconvert_exporter": "python",
   "pygments_lexer": "ipython3",
   "version": "3.5.3"
  }
 },
 "nbformat": 4,
 "nbformat_minor": 1
}
