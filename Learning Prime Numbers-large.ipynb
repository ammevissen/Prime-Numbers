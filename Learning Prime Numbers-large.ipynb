{
 "cells": [
  {
   "cell_type": "code",
   "execution_count": 1,
   "metadata": {
    "collapsed": false
   },
   "outputs": [],
   "source": [
    "def findPrime(x):\n",
    "    prime=[2, 3] #\n",
    "    notPrime=[]\n",
    "    numbers=[2,3]\n",
    "    exclude=4 #done to exclude 0 and 1 as they are unique numbers, exclude 2 and 3 as to get the list started.\n",
    "    for i in range(x-exclude+1):\n",
    "        num=i+exclude\n",
    "        status=True\n",
    "        \n",
    "        for j in prime:\n",
    "            if num%j==0:\n",
    "                status=False\n",
    "        numbers.append(num)\n",
    "        if status:\n",
    "            prime.append(num)\n",
    "        else:\n",
    "            notPrime.append(num)\n",
    "    return(prime, notPrime, numbers)\n",
    "\n",
    "number=10000\n",
    "prime, notPrime,numbers=findPrime(number)\n",
    "#print(prime, notPrime)\n",
    "\n",
    "        "
   ]
  },
  {
   "cell_type": "code",
   "execution_count": 2,
   "metadata": {
    "collapsed": false
   },
   "outputs": [
    {
     "name": "stdout",
     "output_type": "stream",
     "text": [
      "[[ 0.]\n",
      " [ 0.]\n",
      " [ 0.]\n",
      " ..., \n",
      " [ 0.]\n",
      " [ 0.]\n",
      " [ 0.]]\n"
     ]
    }
   ],
   "source": [
    "import numpy as np\n",
    "\n",
    "label=np.zeros((number-1,1))\n",
    "print(label)"
   ]
  },
  {
   "cell_type": "code",
   "execution_count": 3,
   "metadata": {
    "collapsed": false
   },
   "outputs": [
    {
     "name": "stderr",
     "output_type": "stream",
     "text": [
      "Using TensorFlow backend.\n"
     ]
    },
    {
     "name": "stdout",
     "output_type": "stream",
     "text": [
      "[[ 1.]\n",
      " [ 1.]\n",
      " [ 0.]\n",
      " ..., \n",
      " [ 0.]\n",
      " [ 0.]\n",
      " [ 0.]]\n",
      "[[ 0.  1.]\n",
      " [ 0.  1.]\n",
      " [ 1.  0.]\n",
      " ..., \n",
      " [ 1.  0.]\n",
      " [ 1.  0.]\n",
      " [ 1.  0.]]\n"
     ]
    }
   ],
   "source": [
    "for i in prime:\n",
    "    label[i-2]=1\n",
    "#print(label)\n",
    "\n",
    "from keras.utils import np_utils\n",
    "label_final = np_utils.to_categorical(np.array(label), 2)\n",
    "print(label)\n",
    "print(label_final)"
   ]
  },
  {
   "cell_type": "code",
   "execution_count": 26,
   "metadata": {
    "collapsed": false
   },
   "outputs": [
    {
     "name": "stdout",
     "output_type": "stream",
     "text": [
      "[[ 0.  0.  0.  0.  2.]\n",
      " [ 0.  0.  0.  0.  3.]\n",
      " [ 0.  0.  0.  0.  4.]\n",
      " ..., \n",
      " [ 0.  9.  9.  9.  8.]\n",
      " [ 0.  9.  9.  9.  9.]\n",
      " [ 1.  0.  0.  0.  0.]]\n"
     ]
    }
   ],
   "source": [
    "data=np.zeros((number-1,len(str(number))))\n",
    "for i in range(number-1):\n",
    "    num=i+2\n",
    "    for k in range(len(str(num))):\n",
    "        data[i][len(str(number))-k-1]=int(str(num)[len(str(num))-k-1])\n",
    "#print(data)\n",
    "#data_final = np_utils.to_categorical(np.array(data), number+1)\n",
    "print(data)"
   ]
  },
  {
   "cell_type": "code",
   "execution_count": null,
   "metadata": {
    "collapsed": false
   },
   "outputs": [],
   "source": []
  },
  {
   "cell_type": "code",
   "execution_count": 27,
   "metadata": {
    "collapsed": false
   },
   "outputs": [],
   "source": [
    "from sklearn.model_selection import train_test_split\n",
    "X_train, X_test, y_train, y_test = train_test_split(data, label_final, test_size=0.2, random_state=42)"
   ]
  },
  {
   "cell_type": "code",
   "execution_count": 425,
   "metadata": {
    "collapsed": true
   },
   "outputs": [],
   "source": [
    "from sklearn.ensemble import AdaBoostClassifier\n",
    "\n",
    "\n",
    "\n",
    "\n",
    "\n",
    "\n"
   ]
  },
  {
   "cell_type": "code",
   "execution_count": 55,
   "metadata": {
    "collapsed": false
   },
   "outputs": [
    {
     "name": "stdout",
     "output_type": "stream",
     "text": [
      "5\n",
      "_________________________________________________________________\n",
      "Layer (type)                 Output Shape              Param #   \n",
      "=================================================================\n",
      "dense_7 (Dense)              (None, 512)               3072      \n",
      "_________________________________________________________________\n",
      "dropout_6 (Dropout)          (None, 512)               0         \n",
      "_________________________________________________________________\n",
      "dense_8 (Dense)              (None, 1024)              525312    \n",
      "_________________________________________________________________\n",
      "dropout_7 (Dropout)          (None, 1024)              0         \n",
      "_________________________________________________________________\n",
      "dense_9 (Dense)              (None, 2048)              2099200   \n",
      "_________________________________________________________________\n",
      "dropout_8 (Dropout)          (None, 2048)              0         \n",
      "_________________________________________________________________\n",
      "dense_10 (Dense)             (None, 1024)              2098176   \n",
      "_________________________________________________________________\n",
      "dropout_9 (Dropout)          (None, 1024)              0         \n",
      "_________________________________________________________________\n",
      "dense_11 (Dense)             (None, 512)               524800    \n",
      "_________________________________________________________________\n",
      "dropout_10 (Dropout)         (None, 512)               0         \n",
      "_________________________________________________________________\n",
      "dense_12 (Dense)             (None, 2)                 1026      \n",
      "=================================================================\n",
      "Total params: 5,251,586.0\n",
      "Trainable params: 5,251,586.0\n",
      "Non-trainable params: 0.0\n",
      "_________________________________________________________________\n"
     ]
    }
   ],
   "source": [
    "#neural network(s):\n",
    "from keras.layers import Conv1D, MaxPooling1D, GlobalAveragePooling1D, AveragePooling1D\n",
    "from keras.layers import Dropout, Flatten, Dense\n",
    "from keras.models import Sequential\n",
    "\n",
    "print(X_train.shape[1])\n",
    "\n",
    "Prime_model = Sequential()\n",
    "Prime_model.add(Dense(512, input_shape=(X_train.shape[1],)))\n",
    "Prime_model.add(Dropout(.3))\n",
    "Prime_model.add(Dense(1024, activation='relu'))\n",
    "Prime_model.add(Dropout(.3))\n",
    "Prime_model.add(Dense(2048, activation='relu'))\n",
    "Prime_model.add(Dropout(.3))\n",
    "Prime_model.add(Dense(1024, activation='relu'))\n",
    "Prime_model.add(Dropout(.3))\n",
    "Prime_model.add(Dense(512, activation='relu'))\n",
    "Prime_model.add(Dropout(.3))\n",
    "#Prime_model.add(Dense(256, activation='relu'))\n",
    "#Prime_model.add(Dropout(.3))\n",
    "#Prime_model.add(Dense(128, activation='relu'))\n",
    "#Prime_model.add(Dropout(.3))\n",
    "#Prime_model.add(Dense(64, activation='relu'))\n",
    "#Prime_model.add(Dropout(.3))\n",
    "#Prime_model.add(Dense(32, activation='relu'))\n",
    "#Prime_model.add(Dropout(.3))\n",
    "#Prime_model.add(Dense(16, activation='relu'))\n",
    "#Prime_model.add(Dropout(.3))\n",
    "#Prime_model.add(Dense(8, activation='relu'))\n",
    "#Prime_model.add(Dropout(.3))\n",
    "#Prime_model.add(Dense(4, activation='relu'))\n",
    "#Prime_model.add(Dropout(.3))\n",
    "Prime_model.add(Dense(2, activation='softmax'))\n",
    "Prime_model.summary()"
   ]
  },
  {
   "cell_type": "code",
   "execution_count": 56,
   "metadata": {
    "collapsed": false
   },
   "outputs": [],
   "source": [
    "#compile network:\n",
    "Prime_model.compile(optimizer='rmsprop', loss='binary_crossentropy', metrics=['accuracy'])"
   ]
  },
  {
   "cell_type": "code",
   "execution_count": 57,
   "metadata": {
    "collapsed": false
   },
   "outputs": [
    {
     "name": "stdout",
     "output_type": "stream",
     "text": [
      "Train on 7999 samples, validate on 2000 samples\n",
      "Epoch 1/15\n",
      "7994/7999 [============================>.] - ETA: 0s - loss: 0.6543 - acc: 0.8689Epoch 00000: val_loss improved from inf to 0.53035, saving model to D:\\Machine Learning\\LearningPrime/weights.best.from_scratch.hdf5\n",
      "7999/7999 [==============================] - 240s - loss: 0.6540 - acc: 0.8690 - val_loss: 0.5304 - val_acc: 0.8740\n",
      "Epoch 2/15\n",
      "7994/7999 [============================>.] - ETA: 0s - loss: 0.5560 - acc: 0.8752Epoch 00001: val_loss improved from 0.53035 to 0.44882, saving model to D:\\Machine Learning\\LearningPrime/weights.best.from_scratch.hdf5\n",
      "7999/7999 [==============================] - 311s - loss: 0.5564 - acc: 0.8751 - val_loss: 0.4488 - val_acc: 0.8740\n",
      "Epoch 3/15\n",
      "7994/7999 [============================>.] - ETA: 0s - loss: 0.5853 - acc: 0.8750Epoch 00002: val_loss did not improve\n",
      "7999/7999 [==============================] - 339s - loss: 0.5853 - acc: 0.8750 - val_loss: 0.5245 - val_acc: 0.8740\n",
      "Epoch 4/15\n",
      "7994/7999 [============================>.] - ETA: 0s - loss: 1.4477 - acc: 0.8770Epoch 00003: val_loss did not improve\n",
      "7999/7999 [==============================] - 348s - loss: 1.4468 - acc: 0.8771 - val_loss: 2.0198 - val_acc: 0.8740\n",
      "Epoch 5/15\n",
      "7994/7999 [============================>.] - ETA: 0s - loss: 1.9592 - acc: 0.8778Epoch 00004: val_loss did not improve\n",
      "7999/7999 [==============================] - 398s - loss: 1.9579 - acc: 0.8779 - val_loss: 2.0198 - val_acc: 0.8740\n",
      "Epoch 6/15\n",
      "7994/7999 [============================>.] - ETA: 0s - loss: 1.9552 - acc: 0.8780Epoch 00005: val_loss did not improve\n",
      "7999/7999 [==============================] - 367s - loss: 1.9579 - acc: 0.8779 - val_loss: 2.0198 - val_acc: 0.8740\n",
      "Epoch 7/15\n",
      "7994/7999 [============================>.] - ETA: 0s - loss: 1.9572 - acc: 0.8779Epoch 00006: val_loss did not improve\n",
      "7999/7999 [==============================] - 367s - loss: 1.9579 - acc: 0.8779 - val_loss: 2.0198 - val_acc: 0.8740\n",
      "Epoch 8/15\n",
      "7994/7999 [============================>.] - ETA: 0s - loss: 1.9572 - acc: 0.8779Epoch 00007: val_loss did not improve\n",
      "7999/7999 [==============================] - 380s - loss: 1.9579 - acc: 0.8779 - val_loss: 2.0198 - val_acc: 0.8740\n",
      "Epoch 9/15\n",
      "7994/7999 [============================>.] - ETA: 0s - loss: 1.9592 - acc: 0.8778Epoch 00008: val_loss did not improve\n",
      "7999/7999 [==============================] - 375s - loss: 1.9579 - acc: 0.8779 - val_loss: 2.0198 - val_acc: 0.8740\n",
      "Epoch 10/15\n",
      "7994/7999 [============================>.] - ETA: 0s - loss: 1.9592 - acc: 0.8778Epoch 00009: val_loss did not improve\n",
      "7999/7999 [==============================] - 379s - loss: 1.9579 - acc: 0.8779 - val_loss: 2.0198 - val_acc: 0.8740\n",
      "Epoch 11/15\n",
      "7994/7999 [============================>.] - ETA: 0s - loss: 1.9552 - acc: 0.8780Epoch 00010: val_loss did not improve\n",
      "7999/7999 [==============================] - 428s - loss: 1.9579 - acc: 0.8779 - val_loss: 2.0198 - val_acc: 0.8740\n",
      "Epoch 12/15\n",
      "7994/7999 [============================>.] - ETA: 0s - loss: 1.9572 - acc: 0.8779Epoch 00011: val_loss did not improve\n",
      "7999/7999 [==============================] - 384s - loss: 1.9579 - acc: 0.8779 - val_loss: 2.0198 - val_acc: 0.8740\n",
      "Epoch 13/15\n",
      "7994/7999 [============================>.] - ETA: 0s - loss: 1.9592 - acc: 0.8778Epoch 00012: val_loss did not improve\n",
      "7999/7999 [==============================] - 383s - loss: 1.9579 - acc: 0.8779 - val_loss: 2.0198 - val_acc: 0.8740\n",
      "Epoch 14/15\n",
      "7994/7999 [============================>.] - ETA: 0s - loss: 1.9572 - acc: 0.8779Epoch 00013: val_loss did not improve\n",
      "7999/7999 [==============================] - 368s - loss: 1.9579 - acc: 0.8779 - val_loss: 2.0198 - val_acc: 0.8740\n",
      "Epoch 15/15\n",
      "7994/7999 [============================>.] - ETA: 0s - loss: 1.9592 - acc: 0.8778Epoch 00014: val_loss did not improve\n",
      "7999/7999 [==============================] - 343s - loss: 1.9579 - acc: 0.8779 - val_loss: 2.0198 - val_acc: 0.8740\n"
     ]
    },
    {
     "data": {
      "text/plain": [
       "<keras.callbacks.History at 0xf124dd8>"
      ]
     },
     "execution_count": 57,
     "metadata": {},
     "output_type": "execute_result"
    }
   ],
   "source": [
    "#running network:\n",
    "from keras.callbacks import ModelCheckpoint  \n",
    "\n",
    "### TODO: specify the number of epochs that you would like to use to train the model.\n",
    "\n",
    "epochs = 15\n",
    "\n",
    "### Do NOT modify the code below this line.\n",
    "\n",
    "checkpointer = ModelCheckpoint(filepath='D:\\Machine Learning\\LearningPrime/weights.best.from_scratch.hdf5', \n",
    "                               verbose=1, save_best_only=True)\n",
    "\n",
    "Prime_model.fit(X_train, y_train, \n",
    "          validation_data=(X_test, y_test),\n",
    "          epochs=epochs, batch_size=7, callbacks=[checkpointer], verbose=1)"
   ]
  },
  {
   "cell_type": "code",
   "execution_count": 58,
   "metadata": {
    "collapsed": false
   },
   "outputs": [],
   "source": [
    "#prediction:\n",
    "#load model\n",
    "Prime_model.load_weights('D:\\Machine Learning\\LearningPrime/weights.best.from_scratch.hdf5')"
   ]
  },
  {
   "cell_type": "code",
   "execution_count": 59,
   "metadata": {
    "collapsed": false
   },
   "outputs": [],
   "source": [
    "def num(x, number):\n",
    "    zeros=np.zeros(len(str(number)))\n",
    "    for k in range((len(str(x)))):\n",
    "        zeros[len(str(number))-k-1]=int(str(x)[len(str(x))-k-1])\n",
    "    return(zeros)\n",
    "\n",
    "\n",
    "#print(num(10, number))"
   ]
  },
  {
   "cell_type": "code",
   "execution_count": 60,
   "metadata": {
    "collapsed": false
   },
   "outputs": [],
   "source": [
    "def predPrime(x):\n",
    "    #Prime_model.predict(np.array([num(x, number)]))\n",
    "    #print(Prime_model.predict(np.array([num(x, number)]))[0])\n",
    "    return(Prime_model.predict(np.array([num(x, number)]))[0][0],Prime_model.predict(np.array([num(x, number)]))[0][1])"
   ]
  },
  {
   "cell_type": "code",
   "execution_count": 68,
   "metadata": {
    "collapsed": false
   },
   "outputs": [
    {
     "name": "stdout",
     "output_type": "stream",
     "text": [
      "i= 2   probNotPrime= 0.573034   probPrime= 0.426966\n",
      "i= 3   probNotPrime= 0.594572   probPrime= 0.405428\n",
      "i= 5   probNotPrime= 0.63793   probPrime= 0.36207\n",
      "i= 7   probNotPrime= 0.681014   probPrime= 0.318986\n",
      "i= 11   probNotPrime= 0.563027   probPrime= 0.436973\n",
      "i= 13   probNotPrime= 0.595536   probPrime= 0.404463\n",
      "i= 17   probNotPrime= 0.674138   probPrime= 0.325862\n",
      "i= 19   probNotPrime= 0.712217   probPrime= 0.287783\n",
      "i= 23   probNotPrime= 0.608589   probPrime= 0.391411\n",
      "i= 29   probNotPrime= 0.71214   probPrime= 0.28786\n",
      "i= 31   probNotPrime= 0.631549   probPrime= 0.368451\n",
      "i= 37   probNotPrime= 0.683776   probPrime= 0.316224\n",
      "i= 41   probNotPrime= 0.727679   probPrime= 0.272321\n",
      "i= 43   probNotPrime= 0.657061   probPrime= 0.342939\n",
      "i= 47   probNotPrime= 0.696884   probPrime= 0.303116\n",
      "i= 53   probNotPrime= 0.693645   probPrime= 0.306355\n",
      "i= 59   probNotPrime= 0.736804   probPrime= 0.263196\n",
      "i= 61   probNotPrime= 0.968302   probPrime= 0.0316985\n",
      "i= 67   probNotPrime= 0.732962   probPrime= 0.267038\n",
      "i= 71   probNotPrime= 0.997367   probPrime= 0.00263329\n",
      "i= 9811   probNotPrime= 0.77826   probPrime= 0.22174\n",
      "i= 9817   probNotPrime= 0.759608   probPrime= 0.240392\n",
      "i= 9829   probNotPrime= 0.779132   probPrime= 0.220868\n",
      "i= 9833   probNotPrime= 0.736201   probPrime= 0.263799\n",
      "i= 9839   probNotPrime= 0.783185   probPrime= 0.216815\n",
      "i= 9851   probNotPrime= 0.740737   probPrime= 0.259263\n",
      "i= 9857   probNotPrime= 0.775647   probPrime= 0.224353\n",
      "i= 9859   probNotPrime= 0.793023   probPrime= 0.206977\n",
      "i= 9871   probNotPrime= 0.757862   probPrime= 0.242138\n",
      "i= 9883   probNotPrime= 0.772721   probPrime= 0.227279\n",
      "i= 9887   probNotPrime= 0.798357   probPrime= 0.201643\n",
      "i= 9901   probNotPrime= 0.853424   probPrime= 0.146576\n",
      "i= 9907   probNotPrime= 0.769822   probPrime= 0.230178\n",
      "i= 9923   probNotPrime= 0.747023   probPrime= 0.252977\n",
      "i= 9929   probNotPrime= 0.785578   probPrime= 0.214422\n",
      "i= 9931   probNotPrime= 0.751176   probPrime= 0.248824\n",
      "i= 9941   probNotPrime= 0.745815   probPrime= 0.254185\n",
      "i= 9949   probNotPrime= 0.793413   probPrime= 0.206587\n",
      "i= 9967   probNotPrime= 0.787753   probPrime= 0.212247\n",
      "i= 9973   probNotPrime= 0.768806   probPrime= 0.231195\n"
     ]
    }
   ],
   "source": [
    "for i in range(20):\n",
    "    probNotPrime, probPrime= predPrime(prime[i])\n",
    "    print('i=', prime[i], '  probNotPrime=', probNotPrime, '  probPrime=', probPrime)\n",
    "\n",
    "for i in range(20):\n",
    "    probNotPrime, probPrime= predPrime(prime[len(prime)-20+i])\n",
    "    print('i=', prime[len(prime)-20+i], '  probNotPrime=', probNotPrime, '  probPrime=', probPrime)"
   ]
  },
  {
   "cell_type": "code",
   "execution_count": 67,
   "metadata": {
    "collapsed": false
   },
   "outputs": [
    {
     "name": "stdout",
     "output_type": "stream",
     "text": [
      "i= 4   probNotPrime= 0.616196   probPrime= 0.383804\n",
      "i= 6   probNotPrime= 0.659572   probPrime= 0.340428\n",
      "i= 8   probNotPrime= 0.701881   probPrime= 0.298119\n",
      "i= 9   probNotPrime= 0.721999   probPrime= 0.278001\n",
      "i= 10   probNotPrime= 0.553452   probPrime= 0.446548\n",
      "i= 12   probNotPrime= 0.578294   probPrime= 0.421706\n",
      "i= 14   probNotPrime= 0.614339   probPrime= 0.385661\n",
      "i= 15   probNotPrime= 0.634392   probPrime= 0.365608\n",
      "i= 16   probNotPrime= 0.654435   probPrime= 0.345565\n",
      "i= 18   probNotPrime= 0.69342   probPrime= 0.30658\n",
      "i= 20   probNotPrime= 0.633584   probPrime= 0.366416\n",
      "i= 21   probNotPrime= 0.587567   probPrime= 0.412434\n",
      "i= 22   probNotPrime= 0.595603   probPrime= 0.404397\n",
      "i= 24   probNotPrime= 0.623521   probPrime= 0.376479\n",
      "i= 25   probNotPrime= 0.640277   probPrime= 0.359723\n",
      "i= 26   probNotPrime= 0.657739   probPrime= 0.342261\n",
      "i= 27   probNotPrime= 0.675764   probPrime= 0.324237\n",
      "i= 28   probNotPrime= 0.694078   probPrime= 0.305922\n",
      "i= 30   probNotPrime= 0.873373   probPrime= 0.126627\n",
      "i= 32   probNotPrime= 0.622722   probPrime= 0.377278\n",
      "i= 9981   probNotPrime= 0.774154   probPrime= 0.225846\n",
      "i= 9982   probNotPrime= 0.774492   probPrime= 0.225508\n",
      "i= 9983   probNotPrime= 0.777974   probPrime= 0.222026\n",
      "i= 9984   probNotPrime= 0.782837   probPrime= 0.217163\n",
      "i= 9985   probNotPrime= 0.788789   probPrime= 0.211211\n",
      "i= 9986   probNotPrime= 0.795473   probPrime= 0.204527\n",
      "i= 9987   probNotPrime= 0.802401   probPrime= 0.197599\n",
      "i= 9988   probNotPrime= 0.809853   probPrime= 0.190147\n",
      "i= 9989   probNotPrime= 0.817626   probPrime= 0.182374\n",
      "i= 9990   probNotPrime= 0.787639   probPrime= 0.212361\n",
      "i= 9991   probNotPrime= 0.785417   probPrime= 0.214583\n",
      "i= 9992   probNotPrime= 0.785063   probPrime= 0.214937\n",
      "i= 9993   probNotPrime= 0.787581   probPrime= 0.212419\n",
      "i= 9994   probNotPrime= 0.791927   probPrime= 0.208073\n",
      "i= 9995   probNotPrime= 0.797353   probPrime= 0.202647\n",
      "i= 9996   probNotPrime= 0.803726   probPrime= 0.196274\n",
      "i= 9997   probNotPrime= 0.810419   probPrime= 0.189581\n",
      "i= 9998   probNotPrime= 0.817492   probPrime= 0.182508\n",
      "i= 9999   probNotPrime= 0.824748   probPrime= 0.175252\n",
      "i= 10000   probNotPrime= 0.55433   probPrime= 0.44567\n"
     ]
    }
   ],
   "source": [
    "#for i in notPrime:\n",
    "#    probNotPrime, probPrime= predPrime(i)\n",
    "#    print('i=', i, '  probNotPrime=', probNotPrime, '  probPrime=', probPrime)\n",
    "    \n",
    "    \n",
    "for i in range(20):\n",
    "    probNotPrime, probPrime= predPrime(notPrime[i])\n",
    "    print('i=', notPrime[i], '  probNotPrime=', probNotPrime, '  probPrime=', probPrime)\n",
    "\n",
    "for i in range(20):\n",
    "    probNotPrime, probPrime= predPrime(notPrime[len(notPrime)-20+i])\n",
    "    print('i=', notPrime[len(notPrime)-20+i], '  probNotPrime=', probNotPrime, '  probPrime=', probPrime)"
   ]
  },
  {
   "cell_type": "code",
   "execution_count": 69,
   "metadata": {
    "collapsed": false
   },
   "outputs": [],
   "source": [
    "import math\n"
   ]
  },
  {
   "cell_type": "code",
   "execution_count": 70,
   "metadata": {
    "collapsed": false
   },
   "outputs": [],
   "source": [
    "#data1D=[]\n",
    "notPrimeArray=[]\n",
    "\n",
    "for i in numbers:\n",
    "    #data1D.append(int(i[0]))\n",
    "    #print (i)\n",
    "    #print (int(i[0]))\n",
    "    #print (2)\n",
    "    #probNotPrime, probPrime=predPrime(int(i[0]))\n",
    "    probNotPrime, probPrime=predPrime(i)\n",
    "    notPrimeArray.append(probNotPrime)\n",
    "    \n",
    "\n",
    "#print(numbers)\n",
    "#print(notPrimeArray)\n",
    "    "
   ]
  },
  {
   "cell_type": "code",
   "execution_count": 71,
   "metadata": {
    "collapsed": false
   },
   "outputs": [
    {
     "name": "stdout",
     "output_type": "stream",
     "text": [
      "7999 7999\n"
     ]
    },
    {
     "data": {
      "text/plain": [
       "AdaBoostClassifier(algorithm='SAMME.R', base_estimator=None,\n",
       "          learning_rate=1.0, n_estimators=50, random_state=None)"
      ]
     },
     "execution_count": 71,
     "metadata": {},
     "output_type": "execute_result"
    }
   ],
   "source": [
    "from sklearn.ensemble import AdaBoostClassifier\n",
    "from sklearn.tree import DecisionTreeClassifier\n",
    "\n",
    "labelArray=[]\n",
    "for i in label:\n",
    "    #print (i[0])\n",
    "    labelArray.append(i[0])\n",
    "\n",
    "notPrimeArray2D=[] \n",
    "for i in notPrimeArray:\n",
    "    notPrimeArray2D.append([i])\n",
    "    \n",
    "#print (labelArray[0])    \n",
    "\n",
    "X_train_boost, X_test_boost, y_train_boost, y_test_boost = train_test_split(notPrimeArray2D, labelArray, test_size=0.2, random_state=42)\n",
    "\n",
    "clf=AdaBoostClassifier(n_estimators=50)\n",
    "\n",
    "print (len(X_train_boost), len(y_train_boost))\n",
    "\n",
    "#print (X_train_boost)\n",
    "#print (y_train_boost)\n",
    "\n",
    "clf.fit(X_train_boost, y_train_boost)\n",
    "\n",
    "\n"
   ]
  },
  {
   "cell_type": "code",
   "execution_count": 72,
   "metadata": {
    "collapsed": false
   },
   "outputs": [],
   "source": [
    "def boostpredict(x):\n",
    "    return(clf.predict(x))"
   ]
  },
  {
   "cell_type": "code",
   "execution_count": 73,
   "metadata": {
    "collapsed": false
   },
   "outputs": [
    {
     "name": "stdout",
     "output_type": "stream",
     "text": [
      "0.0016273393002441008\n"
     ]
    }
   ],
   "source": [
    "accuracyPrime=0\n",
    "for i in prime:\n",
    "    probNotPrime, probPrime= predPrime(i)\n",
    "    #print('i=', i, '  probNotPrime=', probNotPrime, '  probPrime=', probPrime)\n",
    "    result=boostpredict(probNotPrime)\n",
    "    #print('i=', i, '  probNotPrime=', result)\n",
    "    if result==[1.]:\n",
    "        accuracyPrime+=1\n",
    "\n",
    "print(accuracyPrime/len(prime))\n"
   ]
  },
  {
   "cell_type": "code",
   "execution_count": 74,
   "metadata": {
    "collapsed": false
   },
   "outputs": [
    {
     "name": "stdout",
     "output_type": "stream",
     "text": [
      "1.0\n"
     ]
    }
   ],
   "source": [
    "#for i in notPrime:\n",
    "#    probNotPrime, probPrime= predPrime(i)\n",
    "#    #print('i=', i, '  probNotPrime=', probNotPrime, '  probPrime=', probPrime)\n",
    "#    print('i=', i, '  probNotPrime=', boostpredict(probNotPrime))\n",
    "    \n",
    "    \n",
    "accuracyNotPrime=0\n",
    "for i in notPrime:\n",
    "    probNotPrime, probPrime= predPrime(i)\n",
    "    #print('i=', i, '  probNotPrime=', probNotPrime, '  probPrime=', probPrime)\n",
    "    result=boostpredict(probNotPrime)\n",
    "    #print('i=', i, '  probNotPrime=', result)\n",
    "    if result==[0.]:\n",
    "        accuracyNotPrime+=1\n",
    "\n",
    "print(accuracyNotPrime/len(notPrime))"
   ]
  },
  {
   "cell_type": "code",
   "execution_count": 330,
   "metadata": {
    "collapsed": false
   },
   "outputs": [
    {
     "name": "stdout",
     "output_type": "stream",
     "text": [
      "[[1, 2, [3, 4]], [5, 6], 7]\n",
      "[1, 2, [3, 4]]\n",
      "[3, 4]\n",
      "[5, 6]\n",
      "[1, 2, 3, 4, 5, 6, 7]\n"
     ]
    }
   ],
   "source": [
    "def flatten_list(a, result=None):\n",
    "    \"\"\"Flattens a nested list.\n",
    "\n",
    "        >>> flatten_list([ [1, 2, [3, 4] ], [5, 6], 7])\n",
    "        [1, 2, 3, 4, 5, 6, 7]\n",
    "    \"\"\"\n",
    "    print(a)\n",
    "    if result is None:\n",
    "        result = []\n",
    "\n",
    "    for x in a:\n",
    "        if isinstance(x, list):\n",
    "            flatten_list(x, result)\n",
    "        else:\n",
    "            result.append(x)\n",
    "\n",
    "    return result\n",
    "\n",
    "a=[ [1, 2, [3, 4] ], [5, 6], 7]\n",
    "print(flatten_list(a, result=None))"
   ]
  },
  {
   "cell_type": "code",
   "execution_count": 360,
   "metadata": {
    "collapsed": false
   },
   "outputs": [
    {
     "name": "stdout",
     "output_type": "stream",
     "text": [
      "[[ 0.  1.  0. ...,  0.  0.  0.]]\n"
     ]
    }
   ],
   "source": [
    "print (np.array([num(1, number)]))"
   ]
  },
  {
   "cell_type": "code",
   "execution_count": 408,
   "metadata": {
    "collapsed": false
   },
   "outputs": [
    {
     "name": "stdout",
     "output_type": "stream",
     "text": [
      "[[  2.00000000e+00]\n",
      " [  3.00000000e+00]\n",
      " [  4.00000000e+00]\n",
      " ..., \n",
      " [  4.99800000e+03]\n",
      " [  4.99900000e+03]\n",
      " [  5.00000000e+03]]\n",
      "(0.84858251, 0.15141749)\n",
      "8.4858250618\n",
      "a= 8\n",
      "b= 4\n",
      "c= 8\n",
      "d= 5\n",
      "None\n"
     ]
    }
   ],
   "source": [
    "print(data)\n",
    "print (predPrime(2))\n",
    "probNotPrime, probPrime= predPrime(2)\n",
    "\n",
    "print (probNotPrime*10)\n",
    "a= (math.floor(probNotPrime*10))\n",
    "b=math.floor(probNotPrime*100-a*10)\n",
    "c=math.floor(probNotPrime*1000-(a*100+b*10))\n",
    "d=math.floor(probNotPrime*10000-(a*1000+b*100+c*10))\n",
    "e=math.floor(probNotPrime*100000-d*10)\n",
    "f=math.floor(probNotPrime*1000000-e*10)\n",
    "g=math.floor(probNotPrime*10000000-f*10)\n",
    "h=math.floor(probNotPrime*100000000-g*10)\n",
    "i=math.floor(probNotPrime*1000000000-h*10)\n",
    "j=math.floor(probNotPrime*10000000000-i*10)\n",
    "\n",
    "print ('a=', a)\n",
    "print ('b=', b)\n",
    "print ('c=', c)\n",
    "print ('d=', d)\n",
    "#print ('e=', e)\n",
    "\n",
    "#print ('f=', f)\n",
    "#print ('g=', g)\n",
    "#print ('h=', h)\n",
    "#print ('i=', i)\n",
    "#print ('j=', j)\n",
    "\n",
    "def digits(x,y):\n",
    "    result=([math.floor(x*10)])\n",
    "    if y>0:\n",
    "        return(result.append(digits(x*10-math.floor(x*10),y-1)))\n",
    "    else:\n",
    "        return(result)\n",
    "    \n",
    "print (digits(probNotPrime, 1))\n",
    "#    \n",
    "#def digitsVect(x):\n",
    "\n",
    "#for i in data:\n",
    "    "
   ]
  },
  {
   "cell_type": "code",
   "execution_count": null,
   "metadata": {
    "collapsed": true
   },
   "outputs": [],
   "source": []
  }
 ],
 "metadata": {
  "anaconda-cloud": {},
  "kernelspec": {
   "display_name": "Python [conda env:icebergChallenge]",
   "language": "python",
   "name": "conda-env-icebergChallenge-py"
  },
  "language_info": {
   "codemirror_mode": {
    "name": "ipython",
    "version": 3
   },
   "file_extension": ".py",
   "mimetype": "text/x-python",
   "name": "python",
   "nbconvert_exporter": "python",
   "pygments_lexer": "ipython3",
   "version": "3.5.3"
  }
 },
 "nbformat": 4,
 "nbformat_minor": 1
}
